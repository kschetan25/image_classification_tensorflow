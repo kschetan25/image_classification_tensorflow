{
 "cells": [
  {
   "cell_type": "code",
   "execution_count": 6,
   "metadata": {},
   "outputs": [],
   "source": [
    "#Training the model for prediction in future.\n",
    "from tensorflow.keras.models import Sequential\n",
    "from tensorflow.keras.layers import Dense, Dropout, Activation, Flatten\n",
    "from tensorflow.keras.layers import Conv2D, MaxPooling2D\n",
    "from tensorflow.keras.callbacks import TensorBoard\n",
    "import pickle\n",
    "import time"
   ]
  },
  {
   "cell_type": "code",
   "execution_count": 7,
   "metadata": {},
   "outputs": [],
   "source": [
    "# read the x_train pickle data\n",
    "read_x_train = open(\"x_train.pickle\", \"rb\")\n",
    "x_train = pickle.load(read_x_train)\n",
    "\n",
    "# read the x_train pickle data\n",
    "read_y_train = open(\"y_train.pickle\", \"rb\")\n",
    "y_train = pickle.load(read_y_train)\n",
    "\n",
    "#Normalizing the data\n",
    "x_train = x_train/255.0"
   ]
  },
  {
   "cell_type": "code",
   "execution_count": 8,
   "metadata": {},
   "outputs": [
    {
     "name": "stdout",
     "output_type": "stream",
     "text": [
      "image_classification_grapg_1582401210\n",
      "WARNING:tensorflow:From /home/chetan/anaconda3/lib/python3.7/site-packages/tensorflow_core/python/ops/resource_variable_ops.py:1630: calling BaseResourceVariable.__init__ (from tensorflow.python.ops.resource_variable_ops) with constraint is deprecated and will be removed in a future version.\n",
      "Instructions for updating:\n",
      "If using Keras pass *_constraint arguments to layers.\n",
      "Train on 26416 samples, validate on 11322 samples\n",
      "Epoch 1/6\n",
      "26416/26416 [==============================] - 100s 4ms/sample - loss: 0.6060 - acc: 0.7020 - val_loss: 0.4791 - val_acc: 0.7784\n",
      "Epoch 2/6\n",
      "26416/26416 [==============================] - 100s 4ms/sample - loss: 0.4236 - acc: 0.8014 - val_loss: 0.4555 - val_acc: 0.8076\n",
      "Epoch 3/6\n",
      "26416/26416 [==============================] - 100s 4ms/sample - loss: 0.3516 - acc: 0.8434 - val_loss: 0.3986 - val_acc: 0.8130\n",
      "Epoch 4/6\n",
      "26416/26416 [==============================] - 101s 4ms/sample - loss: 0.3015 - acc: 0.8687 - val_loss: 0.3415 - val_acc: 0.8445\n",
      "Epoch 5/6\n",
      "26416/26416 [==============================] - 101s 4ms/sample - loss: 0.2654 - acc: 0.8867 - val_loss: 0.3448 - val_acc: 0.8535\n",
      "Epoch 6/6\n",
      "26416/26416 [==============================] - 100s 4ms/sample - loss: 0.2382 - acc: 0.8996 - val_loss: 0.3187 - val_acc: 0.8614\n"
     ]
    }
   ],
   "source": [
    "# Building the CNN network to train the model\n",
    "dense_layers = [0]\n",
    "layer_sizes = [64]\n",
    "convolution_layers = [3]\n",
    "activation = ['softmax', 'sigmoid']\n",
    "loss_function = ['sparse_categorical_crossentropy', 'binary_crossentropy']\n",
    "\n",
    "\n",
    "for dense_layer in dense_layers:\n",
    "    for layer_size in layer_sizes:\n",
    "        for convolution_layer in convolution_layers:\n",
    "            graph_name = \"image_classification_grapg_{}\".format(int(time.time()))\n",
    "            print(graph_name)\n",
    "\n",
    "            model = Sequential()\n",
    "\n",
    "            model.add(Conv2D(layer_size, (3, 3), input_shape=x_train.shape[1:]))\n",
    "            model.add(Activation('relu'))\n",
    "            model.add(MaxPooling2D(pool_size=(2, 2)))\n",
    "\n",
    "            for i in range(convolution_layer-1):\n",
    "                model.add(Conv2D(layer_size, (3, 3)))\n",
    "                model.add(Activation('relu'))\n",
    "                model.add(MaxPooling2D(pool_size=(2, 2)))\n",
    "\n",
    "            model.add(Flatten())\n",
    "\n",
    "            for j in range(dense_layer):\n",
    "                model.add(Dense(layer_size))\n",
    "                model.add(Activation('relu'))\n",
    "\n",
    "            model.add(Dense(3))\n",
    "            model.add(Activation(activation[0]))\n",
    "\n",
    "            tensorboard = TensorBoard(log_dir=\"logs/{}\".format(graph_name))\n",
    "\n",
    "            model.compile(loss=loss_function[0],\n",
    "                          optimizer='adam',\n",
    "                          metrics=['accuracy'],\n",
    "                          )\n",
    "\n",
    "            model.fit(x_train, y_train,\n",
    "                      batch_size=32,                            #send 32 images in a batch\n",
    "                      epochs=6,                                #train the model for n epochs\n",
    "                      validation_split=0.3,                     #split train and test data\n",
    "                      callbacks=[tensorboard])\n",
    "\n",
    "            \n",
    "#Save the model\n",
    "model.save('image_classification_CNN.model')"
   ]
  },
  {
   "cell_type": "code",
   "execution_count": 10,
   "metadata": {},
   "outputs": [
    {
     "name": "stdout",
     "output_type": "stream",
     "text": [
      "37738/37738 [==============================] - 27s 713us/sample - loss: 0.2504 - acc: 0.8938\n",
      "0.250394920102679 0.89384705\n"
     ]
    }
   ],
   "source": [
    "#print the accuracy on validation data\n",
    "val_loss, val_acc = model.evaluate(x_train, y_train)\n",
    "print(val_loss, val_acc)"
   ]
  },
  {
   "cell_type": "code",
   "execution_count": null,
   "metadata": {},
   "outputs": [],
   "source": []
  }
 ],
 "metadata": {
  "kernelspec": {
   "display_name": "Python 3",
   "language": "python",
   "name": "python3"
  },
  "language_info": {
   "codemirror_mode": {
    "name": "ipython",
    "version": 3
   },
   "file_extension": ".py",
   "mimetype": "text/x-python",
   "name": "python",
   "nbconvert_exporter": "python",
   "pygments_lexer": "ipython3",
   "version": "3.7.4"
  }
 },
 "nbformat": 4,
 "nbformat_minor": 4
}
