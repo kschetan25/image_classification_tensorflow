{
 "cells": [
  {
   "cell_type": "code",
   "execution_count": 1,
   "metadata": {},
   "outputs": [],
   "source": [
    "#Training the model for prediction in future.\n",
    "from tensorflow.keras.models import Sequential\n",
    "from tensorflow.keras.layers import Dense, Dropout, Activation, Flatten\n",
    "from tensorflow.keras.layers import Conv2D, MaxPooling2D\n",
    "from tensorflow.keras.callbacks import TensorBoard\n",
    "import pickle\n",
    "import time"
   ]
  },
  {
   "cell_type": "code",
   "execution_count": 2,
   "metadata": {},
   "outputs": [],
   "source": [
    "# read the x_train pickle data\n",
    "read_x_train = open(\"x_train.pickle\", \"rb\")\n",
    "x_train = pickle.load(read_x_train)\n",
    "\n",
    "# read the x_train pickle data\n",
    "read_y_train = open(\"y_train.pickle\", \"rb\")\n",
    "y_train = pickle.load(read_y_train)\n",
    "\n",
    "#Normalizing the data\n",
    "x_train = x_train/255.0"
   ]
  },
  {
   "cell_type": "code",
   "execution_count": 6,
   "metadata": {},
   "outputs": [
    {
     "name": "stdout",
     "output_type": "stream",
     "text": [
      "image_classification_grapg_1581459791\n",
      "Train on 26416 samples, validate on 11322 samples\n",
      "Epoch 1/20\n",
      "26416/26416 [==============================] - 99s 4ms/sample - loss: 0.6077 - acc: 0.7045 - val_loss: 0.4514 - val_acc: 0.7848\n",
      "Epoch 2/20\n",
      "26416/26416 [==============================] - 99s 4ms/sample - loss: 0.4168 - acc: 0.8080 - val_loss: 0.5012 - val_acc: 0.7731\n",
      "Epoch 3/20\n",
      "26416/26416 [==============================] - 100s 4ms/sample - loss: 0.3544 - acc: 0.8415 - val_loss: 0.3891 - val_acc: 0.8379\n",
      "Epoch 4/20\n",
      "26416/26416 [==============================] - 100s 4ms/sample - loss: 0.3122 - acc: 0.8632 - val_loss: 0.3233 - val_acc: 0.8583\n",
      "Epoch 5/20\n",
      "26416/26416 [==============================] - 100s 4ms/sample - loss: 0.2766 - acc: 0.8813 - val_loss: 0.3561 - val_acc: 0.8430\n",
      "Epoch 6/20\n",
      "26416/26416 [==============================] - 100s 4ms/sample - loss: 0.2487 - acc: 0.8937 - val_loss: 0.3030 - val_acc: 0.8683\n",
      "Epoch 7/20\n",
      "26416/26416 [==============================] - 100s 4ms/sample - loss: 0.2196 - acc: 0.9080 - val_loss: 0.3277 - val_acc: 0.8684\n",
      "Epoch 8/20\n",
      "26416/26416 [==============================] - 100s 4ms/sample - loss: 0.1943 - acc: 0.9196 - val_loss: 0.2961 - val_acc: 0.8809\n",
      "Epoch 9/20\n",
      "26416/26416 [==============================] - 100s 4ms/sample - loss: 0.1750 - acc: 0.9294 - val_loss: 0.3666 - val_acc: 0.8586\n",
      "Epoch 10/20\n",
      "26416/26416 [==============================] - 100s 4ms/sample - loss: 0.1545 - acc: 0.9378 - val_loss: 0.3013 - val_acc: 0.8793\n",
      "Epoch 11/20\n",
      "26416/26416 [==============================] - 98s 4ms/sample - loss: 0.1313 - acc: 0.9469 - val_loss: 0.3426 - val_acc: 0.8772\n",
      "Epoch 12/20\n",
      "26416/26416 [==============================] - 97s 4ms/sample - loss: 0.1165 - acc: 0.9529 - val_loss: 0.3624 - val_acc: 0.8761\n",
      "Epoch 13/20\n",
      "26416/26416 [==============================] - 97s 4ms/sample - loss: 0.1036 - acc: 0.9584 - val_loss: 0.3620 - val_acc: 0.8771\n",
      "Epoch 14/20\n",
      "26416/26416 [==============================] - 97s 4ms/sample - loss: 0.0855 - acc: 0.9658 - val_loss: 0.3786 - val_acc: 0.8790\n",
      "Epoch 15/20\n",
      "26416/26416 [==============================] - 98s 4ms/sample - loss: 0.0749 - acc: 0.9713 - val_loss: 0.4464 - val_acc: 0.8773\n",
      "Epoch 16/20\n",
      "26416/26416 [==============================] - 100s 4ms/sample - loss: 0.0654 - acc: 0.9741 - val_loss: 0.4467 - val_acc: 0.8790\n",
      "Epoch 17/20\n",
      "26416/26416 [==============================] - 100s 4ms/sample - loss: 0.0631 - acc: 0.9761 - val_loss: 0.4616 - val_acc: 0.8730\n",
      "Epoch 18/20\n",
      "26416/26416 [==============================] - 99s 4ms/sample - loss: 0.0493 - acc: 0.9821 - val_loss: 0.4869 - val_acc: 0.8769\n",
      "Epoch 19/20\n",
      "26416/26416 [==============================] - 100s 4ms/sample - loss: 0.0477 - acc: 0.9815 - val_loss: 0.5162 - val_acc: 0.8730\n",
      "Epoch 20/20\n",
      "26416/26416 [==============================] - 100s 4ms/sample - loss: 0.0415 - acc: 0.9847 - val_loss: 0.5652 - val_acc: 0.8750\n"
     ]
    }
   ],
   "source": [
    "# Building the CNN network to train the model\n",
    "dense_layers = [0]\n",
    "layer_sizes = [64]\n",
    "convolution_layers = [3]\n",
    "\n",
    "for dense_layer in dense_layers:\n",
    "    for layer_size in layer_sizes:\n",
    "        for convolution_layer in convolution_layers:\n",
    "            graph_name = \"image_classification_grapg_{}\".format(int(time.time()))\n",
    "            print(graph_name)\n",
    "\n",
    "            model = Sequential()\n",
    "\n",
    "            model.add(Conv2D(layer_size, (3, 3), input_shape=x_train.shape[1:]))\n",
    "            model.add(Activation('relu'))\n",
    "            model.add(MaxPooling2D(pool_size=(2, 2)))\n",
    "\n",
    "            for i in range(convolution_layer-1):\n",
    "                model.add(Conv2D(layer_size, (3, 3)))\n",
    "                model.add(Activation('relu'))\n",
    "                model.add(MaxPooling2D(pool_size=(2, 2)))\n",
    "\n",
    "            model.add(Flatten())\n",
    "\n",
    "            for j in range(dense_layer):\n",
    "                model.add(Dense(layer_size))\n",
    "                model.add(Activation('relu'))\n",
    "\n",
    "            model.add(Dense(3))\n",
    "            model.add(Activation('softmax'))\n",
    "\n",
    "            tensorboard = TensorBoard(log_dir=\"logs/{}\".format(graph_name))\n",
    "\n",
    "            model.compile(loss='sparse_categorical_crossentropy',\n",
    "                          optimizer='adam',\n",
    "                          metrics=['accuracy'],\n",
    "                          )\n",
    "\n",
    "            model.fit(x_train, y_train,\n",
    "                      batch_size=32,                            #send 32 images in a batch\n",
    "                      epochs=20,                                #train the model for n epochs\n",
    "                      validation_split=0.3,                     #split train and test data\n",
    "                      callbacks=[tensorboard])\n",
    "\n",
    "            \n",
    "#Save the model\n",
    "model.save('image_classification_CNN.model')"
   ]
  },
  {
   "cell_type": "code",
   "execution_count": 7,
   "metadata": {},
   "outputs": [
    {
     "name": "stdout",
     "output_type": "stream",
     "text": [
      "37738/37738 [==============================] - 26s 701us/sample - loss: 0.1883 - acc: 0.9557\n",
      "0.18834511892265393 0.95566803\n"
     ]
    }
   ],
   "source": [
    "#print the accuracy on validation data\n",
    "val_loss, val_acc = model.evaluate(x_train, y_train)\n",
    "print(val_loss, val_acc)"
   ]
  },
  {
   "cell_type": "code",
   "execution_count": null,
   "metadata": {},
   "outputs": [],
   "source": []
  }
 ],
 "metadata": {
  "kernelspec": {
   "display_name": "Python 3",
   "language": "python",
   "name": "python3"
  },
  "language_info": {
   "codemirror_mode": {
    "name": "ipython",
    "version": 3
   },
   "file_extension": ".py",
   "mimetype": "text/x-python",
   "name": "python",
   "nbconvert_exporter": "python",
   "pygments_lexer": "ipython3",
   "version": "3.7.4"
  }
 },
 "nbformat": 4,
 "nbformat_minor": 4
}
