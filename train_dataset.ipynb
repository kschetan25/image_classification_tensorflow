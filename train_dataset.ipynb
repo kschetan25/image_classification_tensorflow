{
 "cells": [
  {
   "cell_type": "code",
   "execution_count": 11,
   "metadata": {},
   "outputs": [],
   "source": [
    "#Training the model for prediction in future.\n",
    "from tensorflow.keras.models import Sequential\n",
    "from tensorflow.keras.layers import Dense, Dropout, Activation, Flatten\n",
    "from tensorflow.keras.layers import Conv2D, MaxPooling2D\n",
    "from tensorflow.keras.callbacks import TensorBoard, ModelCheckpoint, EarlyStopping\n",
    "import pickle\n",
    "import time"
   ]
  },
  {
   "cell_type": "code",
   "execution_count": 12,
   "metadata": {},
   "outputs": [],
   "source": [
    "# read the x_train pickle data\n",
    "read_x_train = open(\"x_train.pickle\", \"rb\")\n",
    "x_train = pickle.load(read_x_train)\n",
    "\n",
    "# read the x_train pickle data\n",
    "read_y_train = open(\"y_train.pickle\", \"rb\")\n",
    "y_train = pickle.load(read_y_train)\n",
    "\n",
    "#Normalizing the data\n",
    "x_train = x_train/255.0"
   ]
  },
  {
   "cell_type": "code",
   "execution_count": 13,
   "metadata": {
    "scrolled": false
   },
   "outputs": [
    {
     "name": "stdout",
     "output_type": "stream",
     "text": [
      "image_classification_softmax_1583472491\n",
      "Train on 34963 samples, validate on 14985 samples\n",
      "Epoch 1/6\n",
      "   32/34963 [..............................] - ETA: 10:36 - loss: 1.3843 - acc: 0.2188WARNING:tensorflow:Method (on_train_batch_end) is slow compared to the batch update (0.250686). Check your callbacks.\n",
      "34963/34963 [==============================] - 179s 5ms/sample - loss: 0.7472 - acc: 0.6771 - val_loss: 0.5432 - val_acc: 0.7780\n",
      "Epoch 2/6\n",
      "34963/34963 [==============================] - 172s 5ms/sample - loss: 0.4771 - acc: 0.8118 - val_loss: 0.4243 - val_acc: 0.8334\n",
      "Epoch 3/6\n",
      "34963/34963 [==============================] - 162s 5ms/sample - loss: 0.4071 - acc: 0.8402 - val_loss: 0.3987 - val_acc: 0.8452\n",
      "Epoch 4/6\n",
      "34963/34963 [==============================] - 162s 5ms/sample - loss: 0.3497 - acc: 0.8645 - val_loss: 0.4546 - val_acc: 0.8278\n",
      "Epoch 5/6\n",
      "34963/34963 [==============================] - 165s 5ms/sample - loss: 0.3026 - acc: 0.8836 - val_loss: 0.3464 - val_acc: 0.8695\n",
      "Epoch 6/6\n",
      "34963/34963 [==============================] - 161s 5ms/sample - loss: 0.2652 - acc: 0.8992 - val_loss: 0.3421 - val_acc: 0.8738\n"
     ]
    }
   ],
   "source": [
    "# Building the CNN network to train the model\n",
    "dense_layers = [0]\n",
    "layer_sizes = [64]\n",
    "convolution_layers = [3]\n",
    "i = 0\n",
    "activation = ['softmax', 'sigmoid']\n",
    "loss_function = ['sparse_categorical_crossentropy', 'binary_crossentropy']\n",
    "actv = activation[i]\n",
    "loss_fun = loss_function[i]\n",
    "\n",
    "for dense_layer in dense_layers:\n",
    "    for layer_size in layer_sizes:\n",
    "        for convolution_layer in convolution_layers:\n",
    "            graph_name = \"image_classification_\"+ actv +\"_{}\".format(int(time.time()))\n",
    "            print(graph_name)\n",
    "\n",
    "            model = Sequential()\n",
    "\n",
    "            model.add(Conv2D(layer_size, (3, 3), input_shape=x_train.shape[1:]))\n",
    "            model.add(Activation('relu'))\n",
    "            model.add(MaxPooling2D(pool_size=(2, 2)))\n",
    "\n",
    "            for i in range(convolution_layer-1):\n",
    "                model.add(Conv2D(layer_size, (3, 3)))\n",
    "                model.add(Activation('relu'))\n",
    "                model.add(MaxPooling2D(pool_size=(2, 2)))\n",
    "\n",
    "            model.add(Flatten())\n",
    "            \n",
    "            for j in range(dense_layer):\n",
    "                model.add(Dense(layer_size))\n",
    "                model.add(Activation('relu'))\n",
    "\n",
    "            model.add(Dense(4))\n",
    "            model.add(Activation(actv))\n",
    "\n",
    "            tensorboard = TensorBoard(log_dir=\"tensor_logs/{}\".format(graph_name))\n",
    "\n",
    "            model.compile(loss=loss_fun,\n",
    "                          optimizer='adam',\n",
    "                          metrics=['accuracy'],\n",
    "                          )\n",
    "\n",
    "            model.fit(x_train, y_train,\n",
    "                      batch_size=32,                            #send 32 images in a batch\n",
    "                      epochs=6,                                #train the model for n epochs\n",
    "                      validation_split=0.3,                     #split train and test data\n",
    "                      callbacks=[tensorboard])\n",
    "\n",
    "            \n",
    "#Save the model\n",
    "model.save('image_classification_CNN_' + actv + '.model')"
   ]
  },
  {
   "cell_type": "code",
   "execution_count": 14,
   "metadata": {},
   "outputs": [
    {
     "name": "stdout",
     "output_type": "stream",
     "text": [
      "49948/49948 [==============================] - 62s 1ms/sample - loss: 0.2301 - acc: 0.9170\n",
      "0.23009762498722777 0.9170137\n"
     ]
    }
   ],
   "source": [
    "#print the accuracy on validation data\n",
    "val_loss, val_acc = model.evaluate(x_train, y_train)\n",
    "print(val_loss, val_acc)"
   ]
  },
  {
   "cell_type": "code",
   "execution_count": null,
   "metadata": {},
   "outputs": [],
   "source": []
  }
 ],
 "metadata": {
  "kernelspec": {
   "display_name": "Python 3",
   "language": "python",
   "name": "python3"
  },
  "language_info": {
   "codemirror_mode": {
    "name": "ipython",
    "version": 3
   },
   "file_extension": ".py",
   "mimetype": "text/x-python",
   "name": "python",
   "nbconvert_exporter": "python",
   "pygments_lexer": "ipython3",
   "version": "3.7.4"
  }
 },
 "nbformat": 4,
 "nbformat_minor": 4
}
